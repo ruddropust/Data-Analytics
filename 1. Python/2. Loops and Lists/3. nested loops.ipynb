{
 "cells": [
  {
   "cell_type": "markdown",
   "metadata": {},
   "source": [
    "A **nested loop** is a loop inside another loop. The inner loop is executed completely for each iteration of the outer loop. This structure is often used to work with multi-dimensional data or to perform repeated operations within a repeated context.\n",
    "\n",
    "For example, in Python:\n",
    "\n",
    "```python\n",
    "for i in range(1, 4):  # Outer loop\n",
    "    for j in range(1, 4):  # Inner loop\n",
    "        print(f\"Outer: {i}, Inner: {j}\")\n",
    "```\n",
    "\n",
    "In this example:\n",
    "- The outer loop runs 3 times (for `i` values 1, 2, and 3).\n",
    "- For each iteration of the outer loop, the inner loop runs 3 times (for `j` values 1, 2, and 3)."
   ]
  },
  {
   "cell_type": "code",
   "execution_count": 2,
   "metadata": {},
   "outputs": [
    {
     "name": "stdout",
     "output_type": "stream",
     "text": [
      "1 2 3 \n",
      "4 5 6 \n",
      "7 8 9 \n"
     ]
    }
   ],
   "source": [
    "number = 1\n",
    "for i in range(1,4):\n",
    "    for j in range(1,4):\n",
    "        print(number, end=\" \")\n",
    "        number += 1\n",
    "    print()"
   ]
  },
  {
   "cell_type": "code",
   "execution_count": 7,
   "metadata": {},
   "outputs": [
    {
     "name": "stdout",
     "output_type": "stream",
     "text": [
      "steps-1:  1 2 3 4 5 6 7 8 9 10 \n",
      "steps-2:  1 2 3 4 5 6 7 8 9 10 \n",
      "steps-3:  1 2 3 4 5 6 7 8 9 10 \n"
     ]
    }
   ],
   "source": [
    "for i in range(1,4):\n",
    "    print(f'steps-{i}: ', end=\" \")\n",
    "    for j in range(1,11):\n",
    "        print(j, end=\" \")\n",
    "    print()"
   ]
  }
 ],
 "metadata": {
  "kernelspec": {
   "display_name": "base",
   "language": "python",
   "name": "python3"
  },
  "language_info": {
   "codemirror_mode": {
    "name": "ipython",
    "version": 3
   },
   "file_extension": ".py",
   "mimetype": "text/x-python",
   "name": "python",
   "nbconvert_exporter": "python",
   "pygments_lexer": "ipython3",
   "version": "3.12.3"
  }
 },
 "nbformat": 4,
 "nbformat_minor": 2
}
