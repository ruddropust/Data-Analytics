{
 "cells": [
  {
   "cell_type": "markdown",
   "metadata": {},
   "source": [
    "# What is loop\n",
    "\n",
    "A **loop** in programming is a control structure that allows you to execute a block of code repeatedly, based on a condition or a sequence. Loops are essential for automating repetitive tasks, processing collections of data, or performing operations until a specific condition is met.\n",
    "\n",
    "### Types of Loops\n",
    "1. **For Loop**: Iterates over a sequence (like a list, range, or string) and executes the block of code for each element.\n",
    "2. **While Loop**: Repeats the block of code as long as a specified condition is `True`.\n",
    "</br>\n",
    "\n",
    "![Loop](https://github.com/user-attachments/assets/4fb4198d-f4f8-45e7-b201-959a91f65d7a)\n",
    "\n",
    "\n",
    "\n",
    "### Key Concepts\n",
    "- **Iteration**: Each repetition of the loop is called an iteration.\n",
    "- **Break**: Used to exit a loop prematurely.\n",
    "- **Continue**: Skips the current iteration and moves to the next one.\n",
    "\n",
    "Loops are powerful tools for reducing redundancy and improving code efficiency."
   ]
  },
  {
   "cell_type": "markdown",
   "metadata": {},
   "source": [
    "# For Loop\n",
    "A **for loop** is a control flow statement used in programming to iterate over a sequence (like a list, tuple, string, or range) or other iterable objects. It allows you to execute a block of code repeatedly for each element in the sequence.\n",
    "\n",
    "![ForLoop](https://www.tutorialspoint.com/python/images/forloop.jpg)\n"
   ]
  },
  {
   "cell_type": "code",
   "execution_count": 18,
   "metadata": {},
   "outputs": [],
   "source": [
    "# for i in range(start, end, step):\n",
    "#     print(i)"
   ]
  },
  {
   "cell_type": "code",
   "execution_count": 19,
   "metadata": {},
   "outputs": [
    {
     "name": "stdout",
     "output_type": "stream",
     "text": [
      "0\n",
      "1\n",
      "2\n",
      "3\n",
      "4\n",
      "5\n",
      "6\n",
      "7\n",
      "8\n",
      "9\n"
     ]
    }
   ],
   "source": [
    "for i in range(10): \n",
    "    print(i)"
   ]
  },
  {
   "cell_type": "code",
   "execution_count": 20,
   "metadata": {},
   "outputs": [
    {
     "name": "stdout",
     "output_type": "stream",
     "text": [
      "10\n",
      "15\n",
      "20\n",
      "25\n",
      "30\n",
      "35\n",
      "40\n",
      "45\n",
      "50\n",
      "55\n",
      "60\n",
      "65\n",
      "70\n",
      "75\n",
      "80\n",
      "85\n",
      "90\n",
      "95\n"
     ]
    }
   ],
   "source": [
    "for i in range(10, 100, 5): #end is not included\n",
    "    print(i)"
   ]
  },
  {
   "cell_type": "markdown",
   "metadata": {},
   "source": [
    "# Using Generator"
   ]
  },
  {
   "cell_type": "code",
   "execution_count": 21,
   "metadata": {},
   "outputs": [
    {
     "name": "stdout",
     "output_type": "stream",
     "text": [
      "<generator object <genexpr> at 0x000002CF73CB34C0>\n",
      "[3, 6, 9, 12, 15, 18, 21, 24, 27]\n",
      "(3, 6, 9, 12, 15, 18, 21, 24, 27)\n",
      "{3, 6, 9, 12, 15, 18, 21, 24, 27}\n",
      "{3: 9, 6: 36, 9: 81, 12: 144, 15: 225, 18: 324, 21: 441, 24: 576, 27: 729}\n"
     ]
    }
   ],
   "source": [
    "print(i for i in range(3,30,3)) # this is a generator expression\n",
    "print(list(i for i in range(3,30,3))) # this is a list comprehension\n",
    "print(tuple(i for i in range(3,30,3))) # this is a tuple comprehension\n",
    "print(set(i for i in range(3,30,3))) # this is a set comprehension\n",
    "print(dict((i, i**2) for i in range(3,30,3))) # this is a dict comprehension"
   ]
  },
  {
   "cell_type": "markdown",
   "metadata": {},
   "source": [
    "# Multipliction Table"
   ]
  },
  {
   "cell_type": "code",
   "execution_count": 22,
   "metadata": {},
   "outputs": [
    {
     "name": "stdout",
     "output_type": "stream",
     "text": [
      "Enter a number:\n",
      "5 X 1 = 5\n",
      "5 X 2 = 10\n",
      "5 X 3 = 15\n",
      "5 X 4 = 20\n",
      "5 X 5 = 25\n",
      "5 X 6 = 30\n",
      "5 X 7 = 35\n",
      "5 X 8 = 40\n",
      "5 X 9 = 45\n",
      "5 X 10 = 50\n"
     ]
    }
   ],
   "source": [
    "print('Enter a number:')\n",
    "n = int(input())\n",
    "\n",
    "for i in range(1,11):\n",
    "    print(n,'X',i,'=',n*i)"
   ]
  },
  {
   "cell_type": "code",
   "execution_count": 34,
   "metadata": {},
   "outputs": [
    {
     "name": "stdout",
     "output_type": "stream",
     "text": [
      "*\n",
      "**\n",
      "***\n",
      "****\n",
      "*****\n",
      "\n",
      "\n",
      "     *\n",
      "    **\n",
      "   ***\n",
      "  ****\n",
      " *****\n",
      "\n",
      "\n",
      "A\n",
      "BB\n",
      "CCC\n",
      "DDDD\n",
      "EEEEE\n",
      "\n",
      "\n",
      "     A\n",
      "    BB\n",
      "   CCC\n",
      "  DDDD\n",
      " EEEEE\n",
      "\n",
      "\n"
     ]
    }
   ],
   "source": [
    "n = 5\n",
    "\n",
    "for i in range(1, n+1):\n",
    "    print(i*'*')\n",
    "\n",
    "print('\\n')\n",
    "\n",
    "for i in range(1, n+1):\n",
    "    print((n-i)*' ', i*'*')\n",
    "\n",
    "print('\\n')\n",
    "\n",
    "for i in range(1, n+1):\n",
    "    char = chr(64+i)\n",
    "    print(i*char)\n",
    "\n",
    "print('\\n')\n",
    "\n",
    "for i in range(1, n+1):\n",
    "    char = chr(64+i)\n",
    "    print((n-i)*' ', i*char)\n",
    "\n",
    "print('\\n')\n"
   ]
  },
  {
   "cell_type": "code",
   "execution_count": 41,
   "metadata": {},
   "outputs": [
    {
     "name": "stdout",
     "output_type": "stream",
     "text": [
      "*****\n",
      "****\n",
      "***\n",
      "**\n",
      "*\n",
      "\n",
      "\n",
      " *****\n",
      "  ****\n",
      "   ***\n",
      "    **\n",
      "     *\n",
      "\n",
      "\n",
      "11111\n",
      "2222\n",
      "333\n",
      "44\n",
      "5\n",
      "\n",
      "\n",
      " 11111\n",
      "  2222\n",
      "   333\n",
      "    44\n",
      "     5\n"
     ]
    }
   ],
   "source": [
    "n = 5\n",
    "\n",
    "for i in range(0, n):\n",
    "    char = chr(49+i)\n",
    "    print((n-i)*'*')\n",
    "\n",
    "print('\\n')\n",
    "for i in range(0, n):\n",
    "    char = chr(49+i)\n",
    "    print( i*' ',(n-i)*'*')\n",
    "\n",
    "print('\\n')\n",
    "for i in range(0, n):\n",
    "    char = chr(49+i)\n",
    "    print((n-i)*char)\n",
    "\n",
    "print('\\n')\n",
    "for i in range(0, n):\n",
    "    char = chr(49+i)\n",
    "    print( i*' ',(n-i)*char)"
   ]
  },
  {
   "cell_type": "code",
   "execution_count": 42,
   "metadata": {},
   "outputs": [
    {
     "name": "stdout",
     "output_type": "stream",
     "text": [
      "        * \n",
      "      * * * \n",
      "    * * * * * \n",
      "  * * * * * * * \n",
      "* * * * * * * * * \n"
     ]
    }
   ],
   "source": [
    "rows = int(input(\"Enter number of rows: \"))\n",
    "\n",
    "k = 0\n",
    "\n",
    "for i in range(1, rows+1):\n",
    "    for space in range(1, (rows-i)+1):\n",
    "        print(end=\"  \")\n",
    "   \n",
    "    while k!=(2*i-1):\n",
    "        print(\"* \", end=\"\")\n",
    "        k += 1\n",
    "   \n",
    "    k = 0\n",
    "    print()"
   ]
  }
 ],
 "metadata": {
  "kernelspec": {
   "display_name": "base",
   "language": "python",
   "name": "python3"
  },
  "language_info": {
   "codemirror_mode": {
    "name": "ipython",
    "version": 3
   },
   "file_extension": ".py",
   "mimetype": "text/x-python",
   "name": "python",
   "nbconvert_exporter": "python",
   "pygments_lexer": "ipython3",
   "version": "3.12.3"
  }
 },
 "nbformat": 4,
 "nbformat_minor": 2
}
