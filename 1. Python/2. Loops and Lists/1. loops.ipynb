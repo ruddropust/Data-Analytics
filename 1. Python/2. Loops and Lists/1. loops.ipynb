{
 "cells": [
  {
   "cell_type": "markdown",
   "metadata": {},
   "source": [
    "# What is loop\n",
    "\n",
    "A **loop** in programming is a control structure that allows you to execute a block of code repeatedly, based on a condition or a sequence. Loops are essential for automating repetitive tasks, processing collections of data, or performing operations until a specific condition is met.\n",
    "\n",
    "### Types of Loops\n",
    "1. **For Loop**: Iterates over a sequence (like a list, range, or string) and executes the block of code for each element.\n",
    "2. **While Loop**: Repeats the block of code as long as a specified condition is `True`.\n",
    "</br>\n",
    "![Image](https://github.com/user-attachments/assets/31853c87-9e32-4d78-837d-3ad47afe5f7b)\n",
    "\n",
    "\n",
    "\n",
    "### Key Concepts\n",
    "- **Iteration**: Each repetition of the loop is called an iteration.\n",
    "- **Break**: Used to exit a loop prematurely.\n",
    "- **Continue**: Skips the current iteration and moves to the next one.\n",
    "\n",
    "Loops are powerful tools for reducing redundancy and improving code efficiency."
   ]
  },
  {
   "cell_type": "markdown",
   "metadata": {},
   "source": [
    "# For Loop\n",
    "A **for loop** is a control flow statement used in programming to iterate over a sequence (like a list, tuple, string, or range) or other iterable objects. It allows you to execute a block of code repeatedly for each element in the sequence.\n",
    "\n"
   ]
  }
 ],
 "metadata": {
  "kernelspec": {
   "display_name": "base",
   "language": "python",
   "name": "python3"
  },
  "language_info": {
   "name": "python",
   "version": "3.12.3"
  }
 },
 "nbformat": 4,
 "nbformat_minor": 2
}
