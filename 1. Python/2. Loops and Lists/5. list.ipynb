{
 "cells": [
  {
   "cell_type": "markdown",
   "metadata": {},
   "source": [
    "## List Items\n",
    "- ist items are **ordered, changeable, and allow duplicate values**.\n",
    "\n",
    "- List items are **indexed**, the first item has **index [0]**, the second item has **index [1]** etc.\n",
    "\n",
    "### Ordered\n",
    "- When we say that lists are **ordered**, it means that the items have a defined order, and **that order will not change**.\n",
    "- If you add new items to a list, the **new items will be placed at the end of the list**.\n",
    "\n",
    "### Changeable\n",
    "The list is **changeable**, meaning that **we can change, add, and remove items in a list after it has been created**.\n",
    "### Allow Duplicates\n",
    "Since lists are indexed, **lists can have items with the same value**:"
   ]
  },
  {
   "cell_type": "code",
   "execution_count": 1,
   "metadata": {},
   "outputs": [
    {
     "name": "stdout",
     "output_type": "stream",
     "text": [
      "mango\n",
      "banana\n",
      "apple\n",
      "orange\n",
      "kiwi\n",
      "grape\n",
      "pear\n",
      "------------------\n",
      "orange\n"
     ]
    }
   ],
   "source": [
    "fruits = ['mango', 'banana', 'apple', 'orange', 'kiwi', 'grape', 'pear']\n",
    "\n",
    "for fruit in fruits:\n",
    "    print(fruit)\n",
    "\n",
    "print('------------------')\n",
    "print(fruits[3])"
   ]
  },
  {
   "cell_type": "markdown",
   "metadata": {},
   "source": [
    "## Ordered"
   ]
  },
  {
   "cell_type": "code",
   "execution_count": 2,
   "metadata": {},
   "outputs": [
    {
     "name": "stdout",
     "output_type": "stream",
     "text": [
      "mango\n",
      "banana\n",
      "apple\n",
      "['orange', 'kiwi', 'grape']\n",
      "pear\n",
      "------------------\n",
      "['mango', 'banana', 'apple', 'orange', 'kiwi', 'grape', 'pear', 'peach', 'pineapple', 'watermelon']\n",
      "------------------\n"
     ]
    }
   ],
   "source": [
    "print(fruits[0])\n",
    "print(fruits[1])\n",
    "print(fruits[2])\n",
    "print(fruits[3:6])\n",
    "print(fruits[6])\n",
    "print('------------------')\n",
    "fruits.append('peach')\n",
    "fruits.append('pineapple')\n",
    "fruits.append('watermelon')\n",
    "print(fruits)\n",
    "print('------------------')"
   ]
  },
  {
   "cell_type": "markdown",
   "metadata": {},
   "source": [
    "## Changeable"
   ]
  },
  {
   "cell_type": "code",
   "execution_count": 3,
   "metadata": {},
   "outputs": [
    {
     "name": "stdout",
     "output_type": "stream",
     "text": [
      "['blueberry', 'mango', 'banana', 'apple', 'orange', 'kiwi', 'grape', 'pear', 'peach', 'pineapple', 'watermelon']\n",
      "------------------\n",
      "['blueberry', 'mango', 'apple', 'orange', 'kiwi', 'grape', 'pear', 'peach', 'pineapple', 'watermelon']\n",
      "------------------\n",
      "['mango', 'apple', 'orange', 'kiwi', 'grape', 'pear', 'peach', 'pineapple', 'watermelon']\n"
     ]
    }
   ],
   "source": [
    "fruits.insert(0, 'blueberry')\n",
    "print(fruits)\n",
    "print('------------------')\n",
    "fruits.remove('banana')\n",
    "print(fruits)   \n",
    "print('------------------')\n",
    "fruits.pop(0)\n",
    "print(fruits)"
   ]
  },
  {
   "cell_type": "markdown",
   "metadata": {},
   "source": [
    "## Allow Duplicate"
   ]
  },
  {
   "cell_type": "code",
   "execution_count": 4,
   "metadata": {},
   "outputs": [
    {
     "name": "stdout",
     "output_type": "stream",
     "text": [
      "['mango', 'mango', 'apple', 'orange', 'kiwi', 'grape', 'pear', 'peach', 'pineapple', 'watermelon']\n"
     ]
    }
   ],
   "source": [
    "fruits.insert(0, 'mango')\n",
    "print(fruits) # mango is 2 times"
   ]
  },
  {
   "cell_type": "markdown",
   "metadata": {},
   "source": [
    "### List Length"
   ]
  },
  {
   "cell_type": "code",
   "execution_count": 5,
   "metadata": {},
   "outputs": [
    {
     "name": "stdout",
     "output_type": "stream",
     "text": [
      "10\n"
     ]
    }
   ],
   "source": [
    "print(len(fruits)) # 10"
   ]
  },
  {
   "cell_type": "markdown",
   "metadata": {},
   "source": [
    "## Can be any Data Type"
   ]
  },
  {
   "cell_type": "code",
   "execution_count": 6,
   "metadata": {},
   "outputs": [
    {
     "name": "stdout",
     "output_type": "stream",
     "text": [
      "[1, 2, 3, 4, 5, True, False, 'hello', 'world']\n",
      "------------------\n",
      "<class 'list'>\n"
     ]
    }
   ],
   "source": [
    "lists = [1, 2, 3, 4, 5, True, False, 'hello', 'world']\n",
    "print(lists)\n",
    "print('------------------')\n",
    "print(type(lists))"
   ]
  },
  {
   "cell_type": "markdown",
   "metadata": {},
   "source": [
    "### The list() Constructor\n",
    "It is also possible to use the list() constructor when creating a new list."
   ]
  },
  {
   "cell_type": "code",
   "execution_count": 7,
   "metadata": {},
   "outputs": [
    {
     "name": "stdout",
     "output_type": "stream",
     "text": [
      "['apple', 'banana', 'cherry']\n"
     ]
    }
   ],
   "source": [
    "thislist = list((\"apple\", \"banana\", \"cherry\"))  # Note the double round-brackets\n",
    "print(thislist)\n"
   ]
  }
 ],
 "metadata": {
  "kernelspec": {
   "display_name": "base",
   "language": "python",
   "name": "python3"
  },
  "language_info": {
   "codemirror_mode": {
    "name": "ipython",
    "version": 3
   },
   "file_extension": ".py",
   "mimetype": "text/x-python",
   "name": "python",
   "nbconvert_exporter": "python",
   "pygments_lexer": "ipython3",
   "version": "3.12.3"
  }
 },
 "nbformat": 4,
 "nbformat_minor": 2
}
